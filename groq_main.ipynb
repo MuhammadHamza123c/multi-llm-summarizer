{
 "cells": [
  {
   "cell_type": "code",
   "execution_count": 18,
   "id": "1cea5199",
   "metadata": {},
   "outputs": [
    {
     "name": "stdout",
     "output_type": "stream",
     "text": [
      "SUMMARY_BOT\n"
     ]
    }
   ],
   "source": [
    "print(\"SUMMARY_BOT\")"
   ]
  },
  {
   "cell_type": "code",
   "execution_count": 19,
   "id": "deb17ee2",
   "metadata": {},
   "outputs": [
    {
     "data": {
      "text/plain": [
       "True"
      ]
     },
     "execution_count": 19,
     "metadata": {},
     "output_type": "execute_result"
    }
   ],
   "source": [
    "from langchain_groq import ChatGroq\n",
    "from dotenv import load_dotenv\n",
    "import os\n",
    "load_dotenv()"
   ]
  },
  {
   "cell_type": "code",
   "execution_count": 20,
   "id": "310b3b56",
   "metadata": {},
   "outputs": [],
   "source": [
    "GROQ_API_KEY=os.getenv(\"GROQ_API_KEY\")"
   ]
  },
  {
   "cell_type": "code",
   "execution_count": 21,
   "id": "8c126c9e",
   "metadata": {},
   "outputs": [],
   "source": [
    "llm=ChatGroq(\n",
    "    model=\"deepseek-r1-distill-llama-70b\",\n",
    "    temperature=0.3\n",
    ")"
   ]
  },
  {
   "cell_type": "code",
   "execution_count": 22,
   "id": "ea042df0",
   "metadata": {},
   "outputs": [
    {
     "data": {
      "text/plain": [
       "'<think>\\n\\n</think>\\n\\nElon Musk is a South African-born entrepreneur, inventor, and investor. He is the CEO of SpaceX, Tesla, Neuralink, and The Boring Company. Musk is known for his ambitious goals, particularly in the areas of space exploration and sustainable energy. He has been a pioneer in the electric car industry with Tesla and has played a significant role in advancing the field of private space exploration through SpaceX, with the goal of colonizing Mars. Musk is also known for his visionary ideas, including the Hyperloop transportation system and his more recent ventures in brain-machine interfaces and tunnel construction. He is one of the most influential and controversial figures in the tech industry today.'"
      ]
     },
     "execution_count": 22,
     "metadata": {},
     "output_type": "execute_result"
    }
   ],
   "source": [
    "llm.invoke('Who is Elon Musk').content"
   ]
  },
  {
   "cell_type": "code",
   "execution_count": 23,
   "id": "be27ed25",
   "metadata": {},
   "outputs": [],
   "source": [
    "from langchain.prompts import PromptTemplate\n",
    "template=\"You will get a long text. Your job is to deeply analyze it and then Summarize it. Here is the Text: {text}.. Should not be more than 50 words total!\"\n",
    "prompt=PromptTemplate(template=template,input_variables=['text'])\n"
   ]
  },
  {
   "cell_type": "code",
   "execution_count": 24,
   "id": "59528ef1",
   "metadata": {},
   "outputs": [],
   "source": [
    "from langchain.chains import LLMChain\n"
   ]
  },
  {
   "cell_type": "code",
   "execution_count": 25,
   "id": "d4c13722",
   "metadata": {},
   "outputs": [],
   "source": [
    "summary_bot=LLMChain(llm=llm,prompt=prompt)"
   ]
  },
  {
   "cell_type": "code",
   "execution_count": 26,
   "id": "afe7056a",
   "metadata": {},
   "outputs": [],
   "source": [
    "text=\"\"\"Climate change has emerged as one of the most urgent global challenges of the 21st century. The increasing concentration of greenhouse gases in the atmosphere, primarily carbon dioxide, methane, and nitrous oxide, has led to rising global temperatures, melting ice caps, and more frequent extreme weather events. Scientists have warned that if these trends continue unchecked, the impacts on natural ecosystems, human societies, and economies could be catastrophic. Rising sea levels threaten coastal communities, while changing weather patterns are affecting agriculture, water resources, and biodiversity.\n",
    "\n",
    "Human activities, such as the burning of fossil fuels, deforestation, and industrial processes, are the primary drivers of climate change. These actions release enormous amounts of carbon into the atmosphere, disrupting the natural carbon cycle and creating a warming effect known as the greenhouse effect. Efforts to mitigate climate change include transitioning to renewable energy sources, improving energy efficiency, and implementing carbon capture and storage technologies. Governments, businesses, and individuals all have roles to play in reducing emissions and adopting sustainable practices.\n",
    "\n",
    "The consequences of climate change are not evenly distributed across the globe. Vulnerable populations, particularly in developing countries, are disproportionately affected due to limited resources, weak infrastructure, and economic constraints. For instance, small island nations face the existential threat of rising sea levels, while arid regions experience worsening droughts that threaten food security. Climate change also exacerbates social inequalities, as communities with fewer resources often lack the capacity to adapt effectively.\n",
    "\n",
    "In addition to mitigation, adaptation strategies are crucial. Communities are investing in resilient infrastructure, early warning systems for natural disasters, and sustainable agricultural practices. Scientific research continues to play a pivotal role in understanding climate dynamics and informing policy decisions. International cooperation, exemplified by agreements such as the Paris Accord, is essential for coordinated global action.\n",
    "\n",
    "Public awareness and behavioral change are also critical. Individuals can contribute by reducing energy consumption, using public transportation, minimizing waste, and supporting sustainable products. Education about climate change fosters a culture of responsibility and empowers citizens to participate in solutions. While the challenge is immense, a combination of technological innovation, policy measures, and societal engagement offers hope for mitigating the worst impacts of climate change and creating a sustainable future for generations to come.\"\"\""
   ]
  },
  {
   "cell_type": "code",
   "execution_count": 27,
   "id": "910e2e5a",
   "metadata": {},
   "outputs": [],
   "source": [
    "response=summary_bot.invoke(text)"
   ]
  },
  {
   "cell_type": "code",
   "execution_count": 28,
   "id": "196f48cb",
   "metadata": {},
   "outputs": [
    {
     "name": "stdout",
     "output_type": "stream",
     "text": [
      "Here is Summary of given text: \n",
      "\n",
      "<think>\n",
      "Alright, I need to help the user by summarizing a given text about climate change into 50 words or less. First, I'll read through the text carefully to understand the main points. The text discusses the urgency of climate change, its causes, impacts, and solutions.\n",
      "\n",
      "I notice that the text starts by highlighting climate change as a major global challenge, mentioning greenhouse gases and their effects like rising temperatures and extreme weather. It then moves on to human activities as the main drivers, such as burning fossil fuels and deforestation.\n",
      "\n",
      "Next, the text talks about mitigation efforts like renewable energy and carbon capture. It also points out the uneven impact on vulnerable populations and the importance of adaptation strategies. International cooperation and public awareness are emphasized as crucial elements in addressing the issue.\n",
      "\n",
      "Now, I need to condense all these points into a concise summary. I should focus on the key elements: the cause (human activities), the effects (temperature rise, extreme weather), and the solutions (renewable energy, cooperation, public awareness).\n",
      "\n",
      "I'll start by stating that climate change is driven by human activities, leading to rising temperatures and extreme weather. Then, I'll mention the necessary actions like transitioning to renewables and the importance of cooperation and awareness.\n",
      "\n",
      "I need to make sure the summary is under 50 words. Let me draft it: \"Climate change, driven by human activities, causes rising temperatures and extreme weather. Transitioning to renewables, improving efficiency, and global cooperation are essential. Public awareness and adaptation strategies are vital for a sustainable future.\"\n",
      "\n",
      "That's 40 words. It covers the main points succinctly. I think this should meet the user's requirements.\n",
      "</think>\n",
      "\n",
      "Climate change, driven by human activities, causes rising temperatures and extreme weather. Transitioning to renewables, improving efficiency, and global cooperation are essential. Public awareness and adaptation strategies are vital for a sustainable future.\n"
     ]
    }
   ],
   "source": [
    "print(f\"Here is Summary of given text: \\n\\n{response['text']}\")\n"
   ]
  },
  {
   "cell_type": "code",
   "execution_count": null,
   "id": "8cf4a86a",
   "metadata": {},
   "outputs": [],
   "source": []
  }
 ],
 "metadata": {
  "kernelspec": {
   "display_name": "Python 3",
   "language": "python",
   "name": "python3"
  },
  "language_info": {
   "codemirror_mode": {
    "name": "ipython",
    "version": 3
   },
   "file_extension": ".py",
   "mimetype": "text/x-python",
   "name": "python",
   "nbconvert_exporter": "python",
   "pygments_lexer": "ipython3",
   "version": "3.13.5"
  }
 },
 "nbformat": 4,
 "nbformat_minor": 5
}
