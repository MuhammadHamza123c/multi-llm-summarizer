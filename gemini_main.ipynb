{
 "cells": [
  {
   "cell_type": "code",
   "execution_count": 18,
   "metadata": {},
   "outputs": [
    {
     "name": "stdout",
     "output_type": "stream",
     "text": [
      "SUMMARY_BOT\n"
     ]
    }
   ],
   "source": [
    "print(\"SUMMARY_BOT\")"
   ]
  },
  {
   "cell_type": "code",
   "execution_count": 19,
   "id": "6bf092ba",
   "metadata": {},
   "outputs": [
    {
     "data": {
      "text/plain": [
       "True"
      ]
     },
     "execution_count": 19,
     "metadata": {},
     "output_type": "execute_result"
    }
   ],
   "source": [
    "from langchain_google_genai import ChatGoogleGenerativeAI\n",
    "from dotenv import load_dotenv\n",
    "import os\n",
    "load_dotenv()"
   ]
  },
  {
   "cell_type": "code",
   "execution_count": 20,
   "id": "157df463",
   "metadata": {},
   "outputs": [],
   "source": [
    "GOOGLE_API_KEY=os.getenv(\"GOOGLE_API_KEY\")"
   ]
  },
  {
   "cell_type": "code",
   "execution_count": 21,
   "id": "6832d1e2",
   "metadata": {},
   "outputs": [],
   "source": [
    "llm=ChatGoogleGenerativeAI(\n",
    "    model='gemini-2.5-flash',\n",
    "    temperature=0.3\n",
    ")"
   ]
  },
  {
   "cell_type": "code",
   "execution_count": 22,
   "id": "a9c8c59d",
   "metadata": {},
   "outputs": [
    {
     "data": {
      "text/plain": [
       "\"Google is a **multinational technology company** best known for its **search engine**, which is the most widely used search engine in the world.\\n\\nHere's a breakdown of what Google is:\\n\\n1.  **A Search Engine:** This is its foundational and most famous product. Google's search engine allows users to find information on the World Wide Web by entering keywords or phrases. It indexes billions of web pages and provides relevant results almost instantly.\\n\\n2.  **A Company (Google LLC, a subsidiary of Alphabet Inc.):**\\n    *   **Founders:** Larry Page and Sergey Brin\\n    *   **Founded:** September 4, 1998\\n    *   **Headquarters:** Mountain View, California, USA\\n    *   In 2015, Google restructured, and Google LLC became the main subsidiary of a new holding company called **Alphabet Inc.** This means Google is part of a larger corporate umbrella that also includes other ventures like Waymo (self-driving cars) and Verily (life sciences).\\n\\n3.  **A Developer of Numerous Products and Services:** Beyond search, Google has an incredibly vast ecosystem of products and services that billions of people use daily. These include:\\n    *   **Advertising Platforms:** Google Ads (for advertisers) and AdSense (for publishers), which are its primary source of revenue.\\n    *   **Operating Systems:** Android (the world's most popular mobile operating system) and Chrome OS (for laptops).\\n    *   **Web Browser:** Google Chrome (the most used web browser globally).\\n    *   **Email Service:** Gmail.\\n    *   **Mapping Service:** Google Maps.\\n    *   **Video Sharing Platform:** YouTube (acquired by Google in 2006).\\n    *   **Cloud Computing:** Google Cloud Platform.\\n    *   **Productivity Tools:** Google Workspace (formerly G Suite), which includes Google Docs, Sheets, Slides, Drive, Calendar, and Meet.\\n    *   **Hardware:** Pixel smartphones, Google Nest smart home devices, Fitbit wearables (acquired).\\n    *   **AI and Research:** Significant investments in artificial intelligence, machine learning, and various research initiatives.\\n\\nIn essence, Google started as a revolutionary search engine and has since grown into one of the largest and most influential technology companies in the world, deeply integrated into the digital lives of billions of people through its diverse range of products and services.\""
      ]
     },
     "execution_count": 22,
     "metadata": {},
     "output_type": "execute_result"
    }
   ],
   "source": [
    "llm.invoke('What is google').content"
   ]
  },
  {
   "cell_type": "code",
   "execution_count": 23,
   "id": "fcb1daf3",
   "metadata": {},
   "outputs": [],
   "source": [
    "from langchain.prompts import PromptTemplate\n",
    "template=\"You will get a long text. Your job is to deeply analyze it and then Summarize it. Here is the Text: {text}.. Should not be more than 50 words total\"\n",
    "prompt=PromptTemplate(template=template,input_variables=['text'])\n"
   ]
  },
  {
   "cell_type": "code",
   "execution_count": 24,
   "id": "5e3f036f",
   "metadata": {},
   "outputs": [],
   "source": [
    "from langchain.chains import LLMChain"
   ]
  },
  {
   "cell_type": "code",
   "execution_count": 25,
   "id": "52409b17",
   "metadata": {},
   "outputs": [],
   "source": [
    "summary_bot=LLMChain(llm=llm,prompt=prompt)"
   ]
  },
  {
   "cell_type": "code",
   "execution_count": 26,
   "id": "f705bafc",
   "metadata": {},
   "outputs": [],
   "source": [
    "text=\"\"\"Artificial Intelligence (AI) has become one of the most transformative technologies of the 21st century, impacting nearly every industry across the globe. From healthcare to finance, education to entertainment, AI systems are revolutionizing the way humans work, interact, and make decisions. In healthcare, AI-powered tools can analyze vast amounts of medical data to detect diseases early, suggest treatments, and even predict patient outcomes. These systems enhance the accuracy of diagnoses, reduce human error, and enable more personalized care for patients.\n",
    "\n",
    "In the finance sector, AI algorithms are used to detect fraudulent transactions, manage investment portfolios, and provide insights into market trends. Banks and financial institutions leverage AI to improve customer experiences, automate repetitive tasks, and minimize operational risks. Similarly, in education, AI-powered platforms offer personalized learning experiences, adapt to individual student needs, and provide real-time feedback to teachers and students. These systems make learning more efficient and accessible to people across different regions.\n",
    "\n",
    "However, the widespread adoption of AI also brings challenges and ethical concerns. Issues such as data privacy, algorithmic bias, and the potential loss of jobs due to automation are critical areas that need careful consideration. Policymakers, technologists, and businesses must collaborate to develop frameworks that ensure AI technologies are used responsibly and equitably. Furthermore, the rapid pace of AI innovation requires continuous learning and adaptation to harness its full potential while mitigating risks.\n",
    "\n",
    "AI is also reshaping industries like transportation, where self-driving cars and intelligent traffic management systems promise to improve safety and reduce congestion. In entertainment, AI-generated content, recommendation systems, and virtual assistants are enhancing user experiences and creating new forms of creativity. Despite these advancements, it remains crucial to maintain human oversight and ethical governance to prevent unintended consequences and ensure AI contributes positively to society.\"\"\""
   ]
  },
  {
   "cell_type": "code",
   "execution_count": 27,
   "id": "a6dcef3c",
   "metadata": {},
   "outputs": [],
   "source": [
    "response=summary_bot.invoke(text)"
   ]
  },
  {
   "cell_type": "code",
   "execution_count": 28,
   "id": "c68d5959",
   "metadata": {},
   "outputs": [
    {
     "name": "stdout",
     "output_type": "stream",
     "text": [
      "Here is Summary of given text: \n",
      "\n",
      "Artificial Intelligence is revolutionizing industries like healthcare, finance, and education, offering benefits from personalized care to fraud detection. However, its widespread adoption raises concerns about data privacy, algorithmic bias, and job displacement. Responsible development, ethical governance, and human oversight are crucial to harness AI's potential positively while mitigating risks.\n"
     ]
    }
   ],
   "source": [
    "print(f\"Here is Summary of given text: \\n\\n{response['text']}\")\n"
   ]
  },
  {
   "cell_type": "code",
   "execution_count": null,
   "id": "bab55bbc",
   "metadata": {},
   "outputs": [],
   "source": []
  }
 ],
 "metadata": {
  "kernelspec": {
   "display_name": "Python 3",
   "language": "python",
   "name": "python3"
  },
  "language_info": {
   "codemirror_mode": {
    "name": "ipython",
    "version": 3
   },
   "file_extension": ".py",
   "mimetype": "text/x-python",
   "name": "python",
   "nbconvert_exporter": "python",
   "pygments_lexer": "ipython3",
   "version": "3.13.5"
  }
 },
 "nbformat": 4,
 "nbformat_minor": 5
}
